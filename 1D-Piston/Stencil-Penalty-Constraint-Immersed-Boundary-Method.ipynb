{
 "cells": [
  {
   "cell_type": "markdown",
   "metadata": {},
   "source": [
    "# Stencil Penalty based Contrained Immersed Boundary Method\n",
    "---\n",
    "\n",
    "### Author: Marin Lauber"
   ]
  },
  {
   "cell_type": "code",
   "execution_count": 24,
   "metadata": {},
   "outputs": [],
   "source": [
    "import numpy as np\n",
    "import matplotlib.pyplot as plt\n",
    "import NSsolver as ns\n",
    "try:\n",
    "    plt.style.use(\"jupyter\")\n",
    "except OSerror:\n",
    "    print(\"Using default ploting style\")"
   ]
  },
  {
   "cell_type": "markdown",
   "metadata": {},
   "source": [
    "The stencil penalty based constrained immersed boundary method (SPcIB), see [Bale et al. (2020)](https://www.sciencedirect.com/science/article/pii/S0045793018308272), is based on the standard IB method with a singluar force\n",
    "\n",
    "\\begin{equation}\n",
    "    \\begin{split}\n",
    "    &\\frac{\\partial \\vec{u}}{\\partial t} + (\\vec{u}\\cdot\\nabla)\\vec{u} = -\\nabla p + \\frac{1}{Re}\\nabla^2\\vec{u} + \\int\\vec{f}(\\vec{\\xi}(s, t))\\delta(\\vec{\\xi} - \\vec{x}) \\text{ d}\\vec{x},\\\\\n",
    "    &\\nabla\\cdot\\vec{u} = 0,\\\\\n",
    "    &\\vec{u}(\\vec{\\xi}(s, t)) = \\int_{\\vec{x}}\\vec{u}(\\vec{x})\\delta(\\vec{x} - \\vec{\\xi} ) \\text{ d}\\vec{x} = \\vec{u}_B(\\vec{\\xi}(s, t)).\n",
    "\\end{split}\n",
    "\\end{equation}\n",
    "\n",
    "but splits the forcing into two contributions\n",
    "\n",
    "\\begin{equation}\n",
    "    \\vec{f}(\\vec{\\xi}, t) = \\vec{f}_{ct}(\\vec{\\xi}, t) + \\vec{f}_{p}(\\vec{\\xi}, t)\n",
    "\\end{equation}\n",
    "\n",
    "where $\\vec{f}_p(\\vec{\\xi}, t)$ is a correction term that accounts for the bad approximation of the pressure gradient with central difference stencil. It is obtained from\n",
    "\n",
    "\\begin{equation}\n",
    "    \\vec{f}_p(\\vec{\\xi}, t) = \\nabla p - \\hat{\\nabla}p.\n",
    "\\end{equation}\n",
    "\n",
    "$\\hat{\\nabla}$ is a modified gradient operator that penalises stencils that contain a discontinuity. Standard WENO smoothness indicators are used."
   ]
  },
  {
   "cell_type": "markdown",
   "metadata": {},
   "source": [
    "## WENO smoothing\n",
    "---\n",
    "\n",
    "The modified discrete approximation is given by\n",
    "\n",
    "\\begin{equation}\n",
    "    d\\hat{\\phi}\\vert_i = \\sum_{k=1}^{r}\\omega_k d\\phi_k,\n",
    "\\end{equation}\n",
    "\n",
    "where $d\\phi_k$ is the discrete approximation of the derivative of $\\phi$ on stencil $k$ using $r$ grid points, i.e. with three points, we have the forward, central and backward differencinf schemes. The standard gradient approxiation on a stencil $k$, with a mesh spacing $h$ is given by\n",
    "\n",
    "\\begin{equation}\n",
    "    d\\phi_k = \\frac{1}{h}\\sum^{r-1}_{j=0}a_{kj}^{r}\\phi(i-r+k+j+2).\n",
    "\\end{equation}\n",
    "\n",
    "The coefficients $a_{kj}^{r}$ depend on the type and order of the discrete gradient operator. The weight $\\omega_k$ are given by by a normalisation of the weights $\\psi_k$\n",
    "\n",
    "\\begin{equation}\n",
    "    \\omega_k = \\frac{\\psi_k}{\\sum_{k=1}^{r}\\psi_k},\n",
    "\\end{equation}\n",
    "\n",
    "which are given by\n",
    "\n",
    "\\begin{equation}\n",
    "    \\psi_k = \\frac{\\gamma_k}{(\\epsilon + \\beta_k)^m}.\n",
    "\\end{equation}\n",
    "\n",
    "$\\epsilon:=1e^{-6}$ prevents the weights from diverging, $m$ and must be chosen large enough. The choice of $\\gamma_k$ is not important as it is normaized after. $\\beta_k$ is the smoothness parameter and is given by\n",
    "\n",
    "\\begin{equation}\n",
    "    \\beta_k = \\sum_{p=1}^{r-1}\\left(\\sum_{j=0}^{r-1}d_{kjp}^{r}\\phi(i-r+k+j+2)\\right)^2.\n",
    "\\end{equation}\n",
    "\n",
    "$d_{r}^{kjp}$ are tabulated coefficients."
   ]
  },
  {
   "cell_type": "markdown",
   "metadata": {},
   "source": [
    "### Example on a 3 point stencil\n",
    "\n",
    "---\n",
    "\n",
    "For a three point stencil we have $r=3$, $k=\\{1, 2, 3\\}$, the smoothness parameters are\n",
    "\n",
    "$$\n",
    "    \\beta_k = \\sum_{p=1}^{r-1}\\left(\\sum_{j=0}^{2}d_{kjp}^{2}\\phi(i+k+j-1)\\right)^2.\n",
    "$$"
   ]
  },
  {
   "cell_type": "code",
   "execution_count": 70,
   "metadata": {},
   "outputs": [],
   "source": [
    "def grad_c(f, dx, m=4, kappa=1, eps=1e-6, c=5):\n",
    "    \n",
    "    grad = np.zeros(len(f))\n",
    "    \n",
    "    for i in range(2, len(f)-2):\n",
    "        \n",
    "        # smoothness parameter\n",
    "        b1 = 13./12*(f[i-2] - 2*f[i-1] + f[i])**2 + 0.25*(3*f[i-2]-4*f[i-1]+f[i])**2\n",
    "        b2 = 13./12*(f[i-1] - 2*f[i] + f[i+1])**2 + 0.25*(f[i-1]-f[i+1])**2\n",
    "        b3 = 13./12*(f[i] - 2*f[i+1] + f[i+2])**2 + 0.25*(3*f[i]-4*f[i+1]+f[i+2])**2\n",
    "        \n",
    "        #weights\n",
    "        psi1 = c/(eps + b1)**m\n",
    "        psi2 = c*kappa/(eps + b2)**m\n",
    "        psi3 = c/(eps + b3)**m\n",
    "        \n",
    "        # normalized weights\n",
    "        sum_i = 1./(psi1+psi2+psi3)\n",
    "        w1 = psi1 * sum_i\n",
    "        w2 = psi2 * sum_i\n",
    "        w3 = psi3 * sum_i\n",
    "        \n",
    "        # candidate stencils bwd, ct, fwd\n",
    "        df1 = (3*f[i]-4*f[i-1]+f[i-2]) / (2*dx)\n",
    "        df2 = (f[i+1] - f[i-1]) / (2*dx)\n",
    "        df3 = (-3*f[i]+4*f[i+1]-f[i+2]) / (2*dx)\n",
    "        \n",
    "        # weighed sum\n",
    "        grad[i] = w1*df1 + w2*df2 + w3*df3\n",
    "    \n",
    "    # boundary point at threated with forward and backward stencils\n",
    "    grad[:2] = (-3*f[ :2]+4*f[1:3]-f[2:4]) / (2*dx)\n",
    "    grad[-2:]=  (3*f[-2:]-4*f[-3:-1:]+f[-4:-2]) / (2*dx)\n",
    "    \n",
    "    return grad"
   ]
  },
  {
   "cell_type": "markdown",
   "metadata": {},
   "source": [
    "To test this WENO scheme, we use the following discontinous function\n",
    "\n",
    "\\begin{equation}\n",
    "    \\phi(x) = \\begin{cases}\n",
    "        \\tanh(\\alpha x) & \\text{if } x \\le 0.5,\\\\\n",
    "        C + \\xi + \\tanh(\\alpha(x-1))& \\text{else }.\n",
    "    \\end{cases}\n",
    "\\end{equation}\n",
    "\n",
    "The derivative is easily evaluated analitically\n",
    "\n",
    "\\begin{equation}\n",
    "    \\frac{d\\phi(x)}{dx} = \\begin{cases}\n",
    "        \\alpha (1-\\tanh(\\alpha x)^2) & \\text{if } x \\le 0.5,\\\\\n",
    "        \\alpha (1-\\tanh(\\alpha (x-1))^2)& \\text{else }.\n",
    "    \\end{cases}\n",
    "\\end{equation}"
   ]
  },
  {
   "cell_type": "code",
   "execution_count": 84,
   "metadata": {},
   "outputs": [],
   "source": [
    "def phi(x, Xi=1., alpha=1.):\n",
    "    C = np.tanh(0.5*alpha) - np.tanh(-0.5*alpha)\n",
    "    res = np.zeros_like(x)\n",
    "    for i in range(len(x)):\n",
    "        if (x[i]<=0.5):\n",
    "            res[i] = np.tanh(alpha*x[i])\n",
    "        else:\n",
    "            res[i] = C + Xi + np.tanh(alpha*(x[i] - 1))\n",
    "    return res\n",
    "\n",
    "def dphi(x, alpha=1.):\n",
    "    res = np.zeros_like(x)\n",
    "    for i in range(len(x)):\n",
    "        if (x[i]<=0.5):\n",
    "            res[i] = alpha*(1 - np.tanh(alpha*x[i])**2)\n",
    "        else:\n",
    "            res[i] = alpha*(1 - np.tanh(alpha*(x[i] - 1))**2)\n",
    "    return res"
   ]
  },
  {
   "cell_type": "code",
   "execution_count": 85,
   "metadata": {},
   "outputs": [
    {
     "data": {
      "image/png": "[encoded data removed]",
      "text/plain": [
       "<Figure size 720x432 with 4 Axes>"
      ]
     },
     "metadata": {
      "needs_background": "light"
     },
     "output_type": "display_data"
    }
   ],
   "source": [
    "x, dx = np.linspace(0, 1, 1024, retstep=True)\n",
    "fig, ax = plt.subplots(2, 2)\n",
    "ax[0, 0].plot(x, phi(x, .1, 1))\n",
    "ax[0, 1].plot(x, phi(x, 1, 1))\n",
    "ax[1, 0].plot(x, phi(x, .1, 10))\n",
    "ax[1, 1].plot(x, phi(x, 1, 10));"
   ]
  },
  {
   "cell_type": "code",
   "execution_count": 86,
   "metadata": {},
   "outputs": [
    {
     "name": "stdout",
     "output_type": "stream",
     "text": [
      "L-infinity norm of the error: 6.370e-07\n",
      "L-infinity norm of the error: 6.370e-07\n",
      "L-infinity norm of the error: 6.369e-04\n",
      "L-infinity norm of the error: 6.369e-04\n"
     ]
    }
   ],
   "source": [
    "print(\"L-infinity norm of the error: %.3e\" % np.max(abs(grad_c(phi(x,.1, 1), dx) - dphi(x, 1))))\n",
    "print(\"L-infinity norm of the error: %.3e\" % np.max(abs(grad_c(phi(x,1, 1), dx) - dphi(x, 1))))\n",
    "print(\"L-infinity norm of the error: %.3e\" % np.max(abs(grad_c(phi(x,.1, 10), dx) - dphi(x, 10))))\n",
    "print(\"L-infinity norm of the error: %.3e\" % np.max(abs(grad_c(phi(x,1, 10), dx) - dphi(x, 10))))"
   ]
  },
  {
   "cell_type": "markdown",
   "metadata": {},
   "source": [
    "Interpolation is achieved using a standard 3-points kernel\n",
    "\n",
    "\\begin{equation}\n",
    "    d(r)=\\begin{cases}\n",
    "        \\frac{3}{4} - r^2 & \\text{if } |r|\\le 0.5,\\\\\n",
    "        \\frac{1}{2}(\\frac{9}{4} - 3|r|+r^2)& \\text{if } |r|\\le 1.5,\\\\\n",
    "        0 & \\text{else.}\n",
    "       \\end{cases}\n",
    "\\end{equation}"
   ]
  },
  {
   "cell_type": "code",
   "execution_count": 41,
   "metadata": {},
   "outputs": [],
   "source": [
    "def kernel(r):\n",
    "    return np.where(abs(r)<=.5, .75-r**2, np.where(abs(r)<=1.5,.5*(2.25-3*abs(r)+r**2), 0))"
   ]
  },
  {
   "cell_type": "code",
   "execution_count": 36,
   "metadata": {},
   "outputs": [
    {
     "data": {
      "image/png": "[encoded data removed]",
      "text/plain": [
       "<Figure size 720x432 with 1 Axes>"
      ]
     },
     "metadata": {
      "needs_background": "light"
     },
     "output_type": "display_data"
    }
   ],
   "source": [
    "x, dx = np.linspace(-2, 2, 128, retstep=True)\n",
    "X = 0\n",
    "plt.plot(x, kernel(x-X), \"-o\");"
   ]
  },
  {
   "cell_type": "code",
   "execution_count": 46,
   "metadata": {},
   "outputs": [],
   "source": [
    "def Ic(x, X, dx, u):\n",
    "    # interpolate Eulerian velocity on Lagrangian interface\n",
    "    return np.sum(u*kernel((X - x)/dx))\n",
    "\n",
    "def Sc(x, X, F, ds=1):\n",
    "    # Regularize the Lagrangian Force to the Eulerian points\n",
    "    return kernel((X - x)/dx)*ds*F"
   ]
  },
  {
   "cell_type": "markdown",
   "metadata": {},
   "source": [
    "We can check that the interpolation and regularization function work properly with two trivial examples. First we check that interpolating a uniform Eulerian velocity field results in the correct Lagrangian velocity"
   ]
  },
  {
   "cell_type": "code",
   "execution_count": 40,
   "metadata": {},
   "outputs": [],
   "source": [
    "u0 = np.ones_like(x)\n",
    "assert np.isclose(Ic(x, 0, dx, u0), 1.), \"Interpolated velocity should be 1\""
   ]
  },
  {
   "cell_type": "code",
   "execution_count": 43,
   "metadata": {},
   "outputs": [],
   "source": [
    "def get_f(x, X, u, V, dx, dt, rho):\n",
    "    # interpolate to Lagrangian point\n",
    "    Ur = Ic(x, X, dx, u)\n",
    "    # compute Lagrangian force density\n",
    "    F = rho/dt*(V - Ur)\n",
    "    return Sc(x, X, F) # extrapolate to Eulerian points"
   ]
  },
  {
   "cell_type": "markdown",
   "metadata": {},
   "source": [
    "The we can check that the forcing of a Lagrangian point moving at the same velocity as a unform Eulerian field is zero"
   ]
  },
  {
   "cell_type": "code",
   "execution_count": 44,
   "metadata": {},
   "outputs": [],
   "source": [
    "assert np.allclose(get_f(x, X, u0, V, dx, 1, 1), 0.), \"forcing should be zero\""
   ]
  },
  {
   "cell_type": "markdown",
   "metadata": {},
   "source": [
    "## 1D Piston\n",
    "\n",
    "The fractional step is used to solve the coupled system. The singular force is added i the predictor step, as in the IBM\n",
    "\n",
    "$$\n",
    "    u^* = u^n + \\Delta t (r_{\\Delta t}(u^n) + f_{ct})\n",
    "$$\n",
    "\n",
    "$$\n",
    "    \\nabla\\cdot(\\nabla p) =  \\frac{\\rho}{\\Delta t}\\nabla\\cdot u^* + \\nabla\\cdot f_{p}\n",
    "$$\n",
    "\n",
    "$$\n",
    "u^{n+1} = u^* + \\frac{\\Delta t}{\\rho}\\left(\\nabla p - f_p\\right)\n",
    "$$"
   ]
  },
  {
   "cell_type": "code",
   "execution_count": 97,
   "metadata": {},
   "outputs": [],
   "source": [
    "def update_cIB(x, X, u0, V, dx, dt=1, rho=1):\n",
    "    \n",
    "    u_n = u0\n",
    "    flag = False\n",
    "    \n",
    "    for i in range(1):\n",
    "        # first step\n",
    "        u_1 = u_n + dt*ns.r(u_n)\n",
    "        u_2 = u_1 + dt*get_f(x, X, u_1, V, dx, dt, rho)\n",
    "\n",
    "        f_p = np.zeros_like(u_2)\n",
    "\n",
    "        for k in range(10):\n",
    "\n",
    "            sigma = ns.div(u_2, dx) - ns.div(f_p, dx)\n",
    "            \n",
    "            if k==9: flag = True\n",
    "            p = ns.solve_pressure(np.ones_like(sigma), sigma, dx, verbose=flag)\n",
    "\n",
    "            f_p = ns.grad(p, dx) - to_face(grad_c(p, dx))\n",
    "\n",
    "        u_n = u_2 - dt/rho*(ns.grad(p, dx) - f_p)\n",
    "    \n",
    "    return p, u_2, sigma, u_n\n",
    "\n",
    "\n",
    "def to_face(f):\n",
    "    cell_c = np.zeros_like(f)\n",
    "    cell_c[1:] = 0.5*(f[:-1] + f[1:])\n",
    "    cell_c[0] = 0.5*(f[-1]+f[0])\n",
    "    return cell_c"
   ]
  },
  {
   "cell_type": "code",
   "execution_count": 94,
   "metadata": {},
   "outputs": [
    {
     "name": "stdout",
     "output_type": "stream",
     "text": [
      "Jacobi solver:\n",
      "\tres0: 2.301e-01\n",
      " \tres: 2.297e-11\n",
      " \titer: 323\n",
      "Interface at X: 0.00\n",
      "L inf: 9.717e-01\n"
     ]
    }
   ],
   "source": [
    "N = 24\n",
    "x, dx = np.linspace(-1, 1, N, retstep=True)\n",
    "xs = x + 0.5*dx # scalar cell-centred values\n",
    "X = 0.\n",
    "V = 1\n",
    "u0 = np.zeros_like(x)\n",
    "dt = 1.\n",
    "d = (x-X)/dx\n",
    "\n",
    "p, us, sigma, u_n =  update_cIB(x, X, u0, V, dx, 1, 1)\n",
    "print(\"Interface at X: %.2f\" % X)\n",
    "print(r\"L inf: %.3e\" % np.max(np.abs(u_n -  V)))"
   ]
  },
  {
   "cell_type": "code",
   "execution_count": 95,
   "metadata": {},
   "outputs": [
    {
     "data": {
      "image/png": "[encoded data removed]",
      "text/plain": [
       "<Figure size 720x432 with 1 Axes>"
      ]
     },
     "metadata": {
      "needs_background": "light"
     },
     "output_type": "display_data"
    }
   ],
   "source": [
    "ns.draw_results(x, xs, X, u0, u_n, p, kernel(d))"
   ]
  }
 ],
 "metadata": {
  "kernelspec": {
   "display_name": "Python 3.7.3 64-bit ('base': conda)",
   "language": "python",
   "name": "python37364bitbaseconda5858645382b24121ad10bc83a15b132c"
  },
  "language_info": {
   "codemirror_mode": {
    "name": "ipython",
    "version": 3
   },
   "file_extension": ".py",
   "mimetype": "text/x-python",
   "name": "python",
   "nbconvert_exporter": "python",
   "pygments_lexer": "ipython3",
   "version": "3.7.3"
  }
 },
 "nbformat": 4,
 "nbformat_minor": 2
}
