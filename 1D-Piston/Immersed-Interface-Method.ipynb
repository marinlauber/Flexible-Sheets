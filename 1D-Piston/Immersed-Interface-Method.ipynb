{
 "cells": [
  {
   "cell_type": "markdown",
   "metadata": {},
   "source": [
    "# Immersed Interface Method\n",
    "---\n",
    "\n",
    "### Author: Marin Lauber"
   ]
  },
  {
   "cell_type": "code",
   "execution_count": 1,
   "metadata": {},
   "outputs": [],
   "source": [
    "import numpy as np\n",
    "import matplotlib.pyplot as plt\n",
    "import NSsolver as ns\n",
    "try:\n",
    "    plt.style.use(\"jupyter\")\n",
    "except OSerror:\n",
    "    print(\"Using default ploting style\")"
   ]
  },
  {
   "cell_type": "markdown",
   "metadata": {},
   "source": [
    "The Immersed Interface Method (IIM) was initially developed for elliptical equation of the form\n",
    "\n",
    "\\begin{equation}\n",
    "    \\nabla\\cdot(\\beta(x)\\nabla u(x)) + \\kappa(x) u(x) = f(x)\n",
    "\\end{equation}\n",
    "\n",
    "in a bounded domain $\\Omega$, where $u$, $\\beta$, $\\kappa$ are potentially discontinuous across the interface located at $\\alpha$. This type of problem is especially relevant for bi-material problem, such as multiphase flow, and even fluid-structure interaction, where an interface is immersed onto a fluid. The codimension of the interface located at $\\alpha$ is one, that is it has one dimension less than the domain $\\Omega$."
   ]
  },
  {
   "cell_type": "markdown",
   "metadata": {},
   "source": [
    "## 1 Dimensional Problem\n",
    "\n",
    "Broadly, IIM aims at writing a finite difference approximation of a 1D version of (1)\n",
    "\n",
    "\\begin{equation}\n",
    "    (\\beta u_x)_x + \\kappa u = f\n",
    "\\end{equation}\n",
    "\n",
    "as\n",
    "\n",
    "\\begin{equation}\n",
    "    \\gamma_{i,1}u_{i-1} + \\gamma_{i,2}u_{i} + \\gamma_{i,3}u_{i+1} + \\kappa_i u_i = f_i + C_i\n",
    "\\end{equation}\n",
    "\n",
    "where $\\gamma_{i,k}$ are coefficient that ensure global $O(h^2)$ accuracy of the numerical discretization. The term $C_i$ is a correction term that accounts for the jump in the variables at $\\alpha$. If the point $\\alpha$ falls in between two grid points, say $x_{j} < \\alpha < x_{j+1}$, then $\\forall i\\neq j, j+1$ the $\\gamma_{j,k}$ take the standard form\n",
    "\n",
    "\\begin{split}\n",
    "    \\gamma_{j,1} &=  \\frac{\\beta_{j-1/2}}{h^2}\\\\\n",
    "    \\gamma_{j,2} &= \\frac{-(\\beta_{j-1/2}+\\beta_{j+1/2})}{h^2}\\\\\n",
    "    \\gamma_{j,3} &=\\frac{\\beta_{j+1/2}}{h^2}\\\\\n",
    "    C_i &= 0.\n",
    "\\end{split}\n",
    "\n",
    "The local truncation error of this scheme is\n",
    "\n",
    "\\begin{equation}\n",
    "    T_i = \\gamma_{i,1}u(x_{i-1}) + \\gamma_{i,2}u(x_{i}) + \\gamma_{i,3}u(x_{i+1}) + \\kappa_i u(x_i) - f_i = O(h^2)\n",
    "\\end{equation}\n"
   ]
  },
  {
   "cell_type": "markdown",
   "metadata": {},
   "source": [
    "To derive formula of the type (2) valid at $i = j, j+1$ we only need local $O(h)$ accuracy as only two grid points are involved. Because the underlying function is not smooth, we cannot Taylor expand across the interface, we must do it from each side of it. Taylor expanding for te three neighbouring grid points of the interface that is located such that $x_{j} < \\alpha < x_{j+1}$ gives\n",
    "\n",
    "\\begin{split}\n",
    "    &u_{j-i} = u^- + (x_{j-1} - \\alpha)u^-_x + \\frac{1}{2}(x_{j-1} - \\alpha)^2u^-_{xx} +O(h^3) \\\\\n",
    "    &u_{j} = u^- + (x_{j} - \\alpha)u^-_x + \\frac{1}{2}(x_{j} - \\alpha)^2u^-_{xx} +O(h^3)\\\\\n",
    "    &u_{j+i} = u^+ + (x_{j+1} - \\alpha)u^+_x + \\frac{1}{2}(x_{j+1} - \\alpha)^2u^+_{xx} +O(h^3)\\\\\n",
    "\\end{split}\n",
    "\n",
    "where \n",
    "\n",
    "\\begin{equation}\n",
    "    u^- = \\lim_{x\\to \\alpha^-}u(x) \\qquad\\qquad  u^+ = \\lim_{x\\to \\alpha^+}u(x).\n",
    "\\end{equation}"
   ]
  },
  {
   "cell_type": "markdown",
   "metadata": {},
   "source": [
    "We also need $O(h)$ approximation to the remaining terms in (...), thos are obtained as\n",
    "\n",
    "\\begin{equation}\n",
    "    k_ju_{j} = k(\\alpha) u^-(\\alpha) = O(h) \\qquad\\qquad f_j = f(\\alpha) = O(h).\n",
    "\\end{equation}\n",
    "\n",
    "From the known jump conditions in $u$ and $\\beta u_x$ we can get relationship between $u^-$ and $u^+$, and so on\n",
    "\n",
    "\\begin{equation}\n",
    "    u^+ = u^- +\\hat{C} \\qquad\\qquad u_x^+ = (\\beta^-u^-_x +C)/\\beta^+.\n",
    "\\end{equation}\n",
    "\n",
    "Since we assumed that $f$ is continuous, $(\\beta u_x)_x + \\kappa u$ must also be. This gives us an expression for $u_{xx}^+$\n",
    "\n",
    "\\begin{equation}\n",
    "    u_{xx}^+ = \\frac{1}{\\beta^+}\\left(\\beta^-u_{xx}^- + \\left(\\beta_x^- - \\frac{\\beta_x^+\\beta^-}{\\beta^+}\\right)u_x^- - \\frac{\\beta_x^+}{\\beta^+}C- \\kappa\\hat{C}\\right).\n",
    "\\end{equation}\n",
    "\n",
    "Finally we can get an approximation for $f(\\alpha)$ from\n",
    "\n",
    "\\begin{equation}\n",
    "    \\beta_x^-u_x^- + \\beta^-u_xx^- + \\kappa(\\alpha)u^-  = f(\\alpha).\n",
    "\\end{equation}"
   ]
  },
  {
   "cell_type": "markdown",
   "metadata": {},
   "source": [
    "Substituting all those expressions into our truncation error expression gives four relationshpis for a local $O(h)$ approximation of the equation near the discontinuity\n",
    "\n",
    "\\begin{split}\n",
    "    &\\gamma_{j,1} + \\gamma_{j,2} + \\gamma_{j,3} = 0,\\\\\n",
    "    &(x_{j-1}- \\alpha)\\gamma_{j,1} + (x_{j}- \\alpha)\\gamma_{j,2} + \\left\\{\\frac{\\beta^-}{\\beta^+}(x_{j+1}-\\alpha) + \\left(\\frac{\\beta_x^-}{\\beta^+} - \\frac{\\beta_x^+\\beta^-}{(\\beta^+)^2}\\right)\\frac{(x_{j+1}-\\alpha)^2}{2}\\right\\}\\gamma_{j,3} = \\beta_x^+,\\\\\n",
    "    &\\frac{(x_{j-1}-\\alpha)^2}{2}\\gamma_{j,1} + \\frac{(x_{j}-\\alpha)^2}{2}\\gamma_{j,2} + \\frac{(x_{j+1}-\\alpha)^2\\beta^-}{2\\beta^+}\\gamma_{j,3} = \\beta^-,\\\\\n",
    "    &C_j = \\gamma_{j,3}\\left\\{\\hat{C} + (x_{j+1}-\\alpha)\\frac{C}{\\beta^+} - \\frac{1}{2}(x_{j+1}-\\alpha)^2\\left(\\frac{\\beta_x^+C}{(\\beta^+)^2}-\\kappa\\frac{\\hat{C}}{\\beta^+}\\right)\\right\\}.\\\\\n",
    "\\end{split}"
   ]
  },
  {
   "cell_type": "markdown",
   "metadata": {},
   "source": [
    "In the context of an immersed structural interface (a membrane) these sets of coefficients are much simpler to obtain. Because $\\beta$ is continuous across the interface (in this case beta is the density). We also have $\\kappa=0$ and as such only relationship (1) is kept. The two following ones disapear and the last relatinship become\n",
    "\n",
    "\\begin{equation}\n",
    "    C_j = \\frac{1}{h^2}(x_{j+1}-\\alpha)C + \\frac{\\beta}{h^2}\\hat{C}\n",
    "\\end{equation}\n",
    "\n",
    "which is discretized verion of\n",
    "\n",
    "\\begin{equation}\n",
    "    \\beta u''(x) = f(x) + C\\delta(x-\\alpha) + \\hat{C}\\delta'(x-\\alpha).\n",
    "\\end{equation}"
   ]
  },
  {
   "cell_type": "markdown",
   "metadata": {},
   "source": [
    "For your 1D piston example, the pressure gradient must be \n",
    "\n",
    "\\begin{equation}\n",
    "    p_x = cst. = V\n",
    "\\end{equation}\n",
    "\n",
    "such that the jump in $\\beta p_x = C = 0$. This leaves us with simply\n",
    "\n",
    "\\begin{equation}\n",
    "C_j = \\hat{C}\\beta\\delta_h'(x-\\alpha)\n",
    "\\end{equation}.\n",
    "\n",
    "where $\\hat{C}$ is the pressure jump at the interface. The algorithm that is solved using Chorin's projection method is\n",
    "\n",
    "\\begin{split}\n",
    "    u^* = r_{\\Delta t}(u_0) \\\\\n",
    "    \\nabla\\cdot(\\frac{\\Delta t}{\\rho}\\nabla p) = \\nabla\\cdot u^* + \\hat{C}\\beta\\delta_h'(x-\\alpha)\\\\\n",
    "    u^{n+1} = u^* - \\frac{\\Delta t}{\\rho}\\nabla p + \\Delta t\\hat{C}\\beta\\delta_h(x-\\alpha)\n",
    "\\end{split}"
   ]
  },
  {
   "cell_type": "code",
   "execution_count": 2,
   "metadata": {},
   "outputs": [],
   "source": [
    "def update(C_h, x, u, V, X, dx, dt, t):\n",
    "\n",
    "    # predict velocity \n",
    "    u_star = u + dt*ns.r(u, dx)\n",
    "    \n",
    "    # get pressure\n",
    "    sigma = ns.div(u_star, dx) + C_h*ns.div(ns.kernel((x-X)/dx), dx)\n",
    "    p = ns.solve_pressure(np.ones_like(sigma), sigma, dx, verbose=True)\n",
    "    \n",
    "    # correct\n",
    "    u_n = u_star - dt*ns.grad(p, dx) + dt*C_h*ns.kernel((x-X)/dx)\n",
    "    \n",
    "    return sigma, p, u_n"
   ]
  },
  {
   "cell_type": "code",
   "execution_count": 3,
   "metadata": {},
   "outputs": [
    {
     "name": "stdout",
     "output_type": "stream",
     "text": [
      "Pressure jump is: 32.000\n",
      "Jacobi solver:\n",
      "\tres0: 7.914e+00\n",
      " \tres: 7.742e-10\n",
      " \titer: 557\n",
      "Interface at X: 0.00\n",
      "L inf: 2.006e-09\n"
     ]
    }
   ],
   "source": [
    "N = 32\n",
    "x, dx = np.linspace(-1, 1, N, retstep=True)\n",
    "xs = x +0.5*dx\n",
    "X = 0.\n",
    "V = 1\n",
    "u0 = np.zeros_like(x)\n",
    "dt = 1.\n",
    "\n",
    "# pressure jump is mass of fluid in pipe, in 'cell' units\n",
    "ch = N*V/dt\n",
    "\n",
    "print('Pressure jump is: %.3f' % ch)\n",
    "sigma, p, u_n =  update(ch, x, u0, V, X, dx, 1, 1)\n",
    "print(\"Interface at X: %.2f\" % X)\n",
    "print(r\"L inf: %.3e\" % np.max(np.abs(u_n -  V)))"
   ]
  },
  {
   "cell_type": "code",
   "execution_count": 4,
   "metadata": {},
   "outputs": [
    {
     "data": {
      "image/png": "[encoded data removed]",
      "text/plain": [
       "<Figure size 432x288 with 1 Axes>"
      ]
     },
     "metadata": {
      "needs_background": "light"
     },
     "output_type": "display_data"
    }
   ],
   "source": [
    "ns.draw_results(x, xs, X, u0, u_n, p, sigma)"
   ]
  },
  {
   "cell_type": "markdown",
   "metadata": {},
   "source": [
    "This recovers the exact solution, but we have to pass it the corrct pressure jump, which usually would be the what we are trying to solve for."
   ]
  },
  {
   "cell_type": "markdown",
   "metadata": {},
   "source": [
    "## IIM-Feedback Forcing\n",
    "\n",
    "Because this jump in the pressure that is supplied to the equation is usually not known a priori, other immersed inetrface methods have been developped. _AN IMMERSED INTERFACE METHOD FOR INCOMPRESSIBLE NAVIER–STOKES EQUATIONS_\n",
    "\n",
    "Here the idea is to use a Peskin type forcing to impose the boundary condition, but instead of being applied to the momentum equation, the tangential and normal component are split and the former is applied to the momentum equation while the latter is applied to the pressure Poisson equation\n",
    "\n",
    "\\begin{split}\n",
    "    u^* = r_{\\Delta t}(u_0) + F_1 \\\\\n",
    "    \\nabla\\cdot(\\frac{\\Delta t}{\\rho}\\nabla p) = \\nabla\\cdot u^* + \\nabla\\cdot F_2\\\\\n",
    "    u^{n+1} = u^* - \\frac{\\Delta t}{\\rho}\\nabla p + F_2\n",
    "\\end{split}\n"
   ]
  },
  {
   "cell_type": "markdown",
   "metadata": {},
   "source": [
    "\\begin{split}\n",
    "    F1 = F_\\tau\\\\\n",
    "    F2 = F_n\n",
    "\\end{split}\n",
    "\n",
    "\\begin{equation}\n",
    "    f_n(s,t ) = [p](s,t )\n",
    "\\end{equation}\n",
    "\n",
    "\\begin{equation}\n",
    "F(x, t) = \\int_{s_0}^{s_1}f(s, t)\\delta(x - X(s, t))\\text{ d}s\n",
    "\\end{equation}\n",
    "\n",
    "\\begin{equation}\n",
    " f(s, t) = \\kappa\\left[\\xi(s, t) - \\chi(s, t)\\right]+ \\eta\\left[W(s, t) - U(s, t)\\right]\n",
    "\\end{equation}\n",
    "\n"
   ]
  },
  {
   "cell_type": "markdown",
   "metadata": {},
   "source": [
    " \\begin{equation}\n",
    " \\nabla\\cdot(\\frac{\\Delta t}{\\rho}\\nabla p) = \\nabla\\cdot u^* + C_{ij}\n",
    " \\end{equation}\n",
    " \n",
    " \\begin{equation}\n",
    " C_{ij} = (\\nabla\\cdot B)_{ij} = \\frac{B^1_{i+1/2,j} - B^1_{i-1/2,j}}{\\Delta x} + \\frac{B^2_{i,j+1/2} - B^2_{i,j-1/2}}{\\Delta y}\n",
    " \\end{equation}\n",
    " \n",
    " \\begin{equation}\n",
    " B^1_{i-1/2,j} = \\frac{[p]_{i-1/2,j}}{\\Delta x}\n",
    " \\end{equation}"
   ]
  },
  {
   "cell_type": "code",
   "execution_count": 5,
   "metadata": {},
   "outputs": [],
   "source": [
    "def kernel(d, e=2):\n",
    "    return np.where(abs(d)<e, 0.5*(1+np.cos(np.pi*d/e))/e, 0)"
   ]
  },
  {
   "cell_type": "code",
   "execution_count": 6,
   "metadata": {},
   "outputs": [],
   "source": [
    "def update(x, u, V, X, dx, dt, t, eta=10):\n",
    "\n",
    "    # predict velocity \n",
    "    u_star = u + dt*ns.r(u, dx)\n",
    "    \n",
    "    # get pressure\n",
    "    d = (x-X)/dx\n",
    "    F2 = kernel(d)*eta*(kernel(d)*u - V)\n",
    "    sigma = ns.div(u_star, dx) + ns.div(F2, dx)\n",
    "    p = ns.solve_pressure(np.ones_like(sigma), sigma, dx, True)\n",
    "    \n",
    "    # correct\n",
    "    u_n = u_star - dt*ns.grad(p, dx) + dt*F2\n",
    "    \n",
    "    return F2, p, u_n"
   ]
  },
  {
   "cell_type": "code",
   "execution_count": 7,
   "metadata": {},
   "outputs": [
    {
     "name": "stdout",
     "output_type": "stream",
     "text": [
      "Interface at X: 0.23\n",
      "L inf: 1.495e+00\n"
     ]
    }
   ],
   "source": [
    "N = 32\n",
    "x, dx = np.linspace(-1, 1, N, retstep=True)\n",
    "xs = x +0.5*dx\n",
    "X = 0.234\n",
    "V = 1\n",
    "u0 = np.zeros_like(x)\n",
    "dt = 1.\n",
    "\n",
    "sigma, p, u_n =  update(x, u0, V, X, dx, 1, 1, 1)\n",
    "print(\"Interface at X: %.2f\" % X)\n",
    "print(r\"L inf: %.3e\" % np.max(np.abs(u_n -  V)))"
   ]
  },
  {
   "cell_type": "code",
   "execution_count": 8,
   "metadata": {},
   "outputs": [
    {
     "data": {
      "image/png": "[encoded data removed]",
      "text/plain": [
       "<Figure size 432x288 with 1 Axes>"
      ]
     },
     "metadata": {
      "needs_background": "light"
     },
     "output_type": "display_data"
    }
   ],
   "source": [
    "ns.draw_results(x, xs, X, u0, u_n, p, sigma)"
   ]
  }
 ],
 "metadata": {
  "kernelspec": {
   "display_name": "Python 3",
   "language": "python",
   "name": "python3"
  },
  "language_info": {
   "codemirror_mode": {
    "name": "ipython",
    "version": 3
   },
   "file_extension": ".py",
   "mimetype": "text/x-python",
   "name": "python",
   "nbconvert_exporter": "python",
   "pygments_lexer": "ipython3",
   "version": "3.7.3"
  }
 },
 "nbformat": 4,
 "nbformat_minor": 2
}
