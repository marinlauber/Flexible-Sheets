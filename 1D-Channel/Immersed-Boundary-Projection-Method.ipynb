{
 "cells": [
  {
   "cell_type": "markdown",
   "metadata": {},
   "source": [
    "# Immersed Boundary Projection Method\n",
    "---\n",
    "\n",
    "### Author: Marin Lauber"
   ]
  },
  {
   "cell_type": "code",
   "execution_count": 2,
   "metadata": {},
   "outputs": [],
   "source": [
    "import numpy as np\n",
    "import matplotlib.pyplot as plt\n",
    "from scipy import sparse, optimize, linalg\n",
    "import NSsolver as ns\n",
    "try:\n",
    "    plt.style.use(\"jupyter\")\n",
    "except OSerror:\n",
    "    print(\"Using default ploting style\")"
   ]
  },
  {
   "cell_type": "markdown",
   "metadata": {},
   "source": [
    "### Fractional Step \n",
    "\n",
    "The immersed boundary projection method [Tiara and Colonius (2007)](https://d1wqtxts1xzle7.cloudfront.net/31101693/TairaColonius2007.pdf?1365441675=&response-content-disposition=inline%3B+filename%3DThe_immersed_boundary_method_A_projectio.pdf&Expires=1594972583&Signature=evebVsqQ~CP0mGY3mZGnsXTBeMWPIBVtTN~S5asCJrNMWdfvP2wgukOgrqw~fnrYlBHo8zl72aZRCRYNGwSCVtmu3aiq5x~WMzaYIzeW-HIgddpp~S6tkWBoar-fJNXIAbkL2YWsOLfd2wqGi8Gn5Fig3oKh3itinuckPJ0p50e7zRITgVE~Bh1ZoKsQW1pfqAge1kSpMW35sr5hVKMQT8-mRMlnxecJrpy4Z~sbACR02YvbAIVlCWESq69xsAy6dtJWPp1QgRZrjbLwTMwRcPnFm50LDM68HDRXXAbN~-zEjczEvpKOuVbIF0MgLpDc7Vdx6H6Hzg9Fto9hMkLQJQ__&Key-Pair-Id=APKAJLOHF5GGSLRBV4ZA) is a new formulation of the immersed boundary method based on the fractional step algorithm. A boundary force is also added to the the incompressible Navier-Stokes equation. This method recognised that this boundary force can be seen as an additional Lagrange multiplier for the system (the first one being the pressure)\n",
    "\n",
    "\\begin{split}\n",
    "    \\frac{\\partial \\vec{u}}{\\partial t} + (\\vec{u}\\cdot\\nabla)\\vec{u} &= -\\nabla p + \\frac{1}{Re}\\nabla^2\\vec{u} + \\int\\vec{f}(\\vec{\\xi}(s, t))\\delta(\\vec{\\xi} - \\vec{x}) \\text{ d}\\vec{x},\\\\\n",
    "    \\nabla\\cdot\\vec{u} &= 0,\\\\\n",
    "    \\vec{u}(\\vec{\\xi}(s, t)) &= \\int_{\\vec{x}}\\vec{u}(\\vec{x})\\delta(\\vec{x} - \\vec{\\xi} ) \\text{ d}\\vec{x} = \\vec{u}_B(\\vec{\\xi}(s, t)).\n",
    "\\end{split}"
   ]
  },
  {
   "cell_type": "markdown",
   "metadata": {},
   "source": [
    "which can be written in matrix form as\n",
    "\n",
    "\\begin{equation}\n",
    "    \\begin{bmatrix} A & G & -H \\\\\\\n",
    "    D & 0 & 0 \\\\\\\n",
    "    E & 0 & 0 \\end{bmatrix}\\begin{pmatrix} q^{n+1} \\\\\\\n",
    "    \\phi \\\\\\\n",
    "    f \\end{pmatrix} = \\begin{pmatrix} r^{n} \\\\\\\n",
    "    0 \\\\\\\n",
    "    u_B^{n+1} \\end{pmatrix} + \\begin{pmatrix} bc_1 \\\\\\\n",
    "    bc_2 \\\\\\\n",
    "    0 \\end{pmatrix}\n",
    "\\end{equation}\n",
    "\n",
    "with the regularization ($H$) and interpolation ($E$) skewed-symetric operators. The gradient ($G$) and the divergence ($D$) matrix are chosen such that they are skewed-symmetrix such that the system can be rewritten to\n",
    "\n",
    "\\begin{equation}\n",
    "    \\begin{bmatrix} A & G & E^\\top \\\\\\\n",
    "    G^\\top & 0 & 0 \\\\\\\n",
    "    E & 0 & 0 \\end{bmatrix}\\begin{pmatrix} q^{n+1} \\\\\\\n",
    "    \\phi \\\\\\\n",
    "    \\tilde{f} \\end{pmatrix} = \\begin{pmatrix} r^{n} \\\\\\\n",
    "    0 \\\\\\\n",
    "    u_B^{n+1} \\end{pmatrix} + \\begin{pmatrix} bc_1 \\\\\\\n",
    "    -bc_2 \\\\\\\n",
    "    0 \\end{pmatrix}\n",
    "\\end{equation}\n",
    "\n",
    "with $\\tilde{f}$ such that $Hf=-E^\\top\\tilde{f}$, let\n",
    "\n",
    "\\begin{equation}\n",
    "    Q \\equiv [G, E^\\top], \\qquad \\lambda\\equiv\\begin{pmatrix}\\phi\\\\\\tilde{f}\\end{pmatrix}, \\qquad r_1 = r^n + bc_1, \\qquad r_2 = \\begin{pmatrix}-bc_2\\\\u_B^{n+1}\\end{pmatrix}.\n",
    "\\end{equation}"
   ]
  },
  {
   "cell_type": "markdown",
   "metadata": {},
   "source": [
    "which allows the previous system to be rewritten as\n",
    "\n",
    "\\begin{equation}\n",
    "    \\begin{bmatrix} A & Q \\\\\\\n",
    "    Q^\\top & 0 \\end{bmatrix}\\begin{pmatrix} q^{n+1} \\\\\\\n",
    "   \\lambda \\end{pmatrix} = \\begin{pmatrix} r_1 \\\\\\\n",
    "    r_2  \\end{pmatrix}\n",
    "\\end{equation}\n",
    "\n",
    "The LU decomposition of this system yields\n",
    "\n",
    "\\begin{equation}\n",
    "    \\begin{bmatrix} A & 0 \\\\\\\n",
    "    Q^\\top & -Q^\\top B^N Q \\end{bmatrix}\\begin{bmatrix} I & B^NQ \\\\\\\n",
    "    0 & I \\end{bmatrix}\\begin{pmatrix} q^{n+1} \\\\\\\n",
    "   \\lambda \\end{pmatrix} = \\begin{pmatrix} r_1 \\\\\\\n",
    "    r_2  \\end{pmatrix} + \\begin{pmatrix} -\\frac{\\Delta t^N}{2^N}(LM^{-1})^{N}Q\\lambda \\\\\\\n",
    "    0  \\end{pmatrix}\n",
    "\\end{equation}\n",
    "\n",
    "where $B^N$ is a $N^{th}$ order approximation to $A^{-1}$\n",
    "\n",
    "\\begin{equation}\n",
    "    B^N \\approx A^{-1} = \\Delta t M^{-1} + \\frac{\\Delta t^2}{2}(M^{-1}L)M^{-1} + ...\n",
    "\\end{equation}"
   ]
  },
  {
   "cell_type": "markdown",
   "metadata": {},
   "source": [
    "From this LU decomposition we get the following fractional step alorithm\n",
    "\n",
    "\\begin{split}\n",
    "    Aq^* &= r_1\\\\\n",
    "    Q^\\top B^N Q \\lambda &= Q^\\top q^* - r_2\\\\\n",
    "    q^{n+1} &= q^* - B^NQ\\lambda\n",
    "\\end{split}"
   ]
  },
  {
   "cell_type": "markdown",
   "metadata": {},
   "source": [
    "### Interpolation and regularization kernel\n",
    "\n",
    "Interpolation and regularizatio is performed trough the discrete Dirac delta function\n",
    "\n",
    "\\begin{equation}\n",
    "d(r) = \\begin{cases}\n",
    "    \\frac{1}{6\\Delta r}\\left[ 5-3\\frac{|r|}{\\Delta r} -\\sqrt{-3\\left(1-\\frac{|r|}{\\Delta r}\\right)^2 +1}\\right] & \\qquad \\text{for  } 0.5\\Delta r \\le |r| \\le 1.5\\Delta r\\\\\n",
    "    \\frac{1}{3\\Delta r}\\left[ 1+\\sqrt{-3\\left(\\frac{r}{\\Delta r}\\right)^2 +1}\\right] & \\qquad \\text{for  } |r| \\le 0.5\\Delta r\\\\\n",
    "    0 & \\qquad \\text{else}\n",
    "       \\end{cases}\n",
    "\\end{equation}"
   ]
  },
  {
   "cell_type": "code",
   "execution_count": 3,
   "metadata": {},
   "outputs": [],
   "source": [
    "def kernel(r, dr=1):\n",
    "    delta = np.where(abs(r)<=1.5*dr, np.where(abs(d)<=0.5*dr,\n",
    "                                             1./(3.*dr)*(1.+np.sqrt(abs(-3*(r/dr)**2+1))),\n",
    "                                             1./(6.*dr)*(5-3*(abs(r)/dr)-np.sqrt(abs(-3*(1-abs(r)/dr)**2+1)))),\n",
    "                    0)\n",
    "    return delta"
   ]
  },
  {
   "cell_type": "markdown",
   "metadata": {},
   "source": [
    "Make a gradient matrix, we construct it such that is is related to the divergence matrix by\n",
    "\n",
    "\\begin{equation}\n",
    "    D = -G^\\top\n",
    "\\end{equation}\n",
    "\n",
    "we can then check with the divergence and gradient from the NSsolver library."
   ]
  },
  {
   "cell_type": "code",
   "execution_count": 4,
   "metadata": {},
   "outputs": [],
   "source": [
    "def make_G_matrix(phi, dx=1):\n",
    "    G =  sparse.diags([-1,1],[-1,0],shape=(len(phi), len(phi))).toarray()\n",
    "    G[0,1]=0; G[0,-1]=-1\n",
    "    return G*(1./dx)"
   ]
  },
  {
   "cell_type": "code",
   "execution_count": 5,
   "metadata": {},
   "outputs": [
    {
     "data": {
      "text/plain": [
       "array([-31.,   1.,   1.,   1.,   1.,   1.,   1.,   1.,   1.,   1.,   1.,\n",
       "         1.,   1.,   1.,   1.,   1.,   1.,   1.,   1.,   1.,   1.,   1.,\n",
       "         1.,   1.,   1.,   1.,   1.,   1.,   1.,   1.,   1.,   1.])"
      ]
     },
     "execution_count": 5,
     "metadata": {},
     "output_type": "execute_result"
    }
   ],
   "source": [
    "t = np.arange(32)\n",
    "G = make_G_matrix(t)\n",
    "np.matmul(G, t)"
   ]
  },
  {
   "cell_type": "code",
   "execution_count": 6,
   "metadata": {},
   "outputs": [
    {
     "data": {
      "text/plain": [
       "array([-31.,   1.,   1.,   1.,   1.,   1.,   1.,   1.,   1.,   1.,   1.,\n",
       "         1.,   1.,   1.,   1.,   1.,   1.,   1.,   1.,   1.,   1.,   1.,\n",
       "         1.,   1.,   1.,   1.,   1.,   1.,   1.,   1.,   1.,   1.])"
      ]
     },
     "execution_count": 6,
     "metadata": {},
     "output_type": "execute_result"
    }
   ],
   "source": [
    "ns.grad(np.arange(32), dx=1)"
   ]
  },
  {
   "cell_type": "code",
   "execution_count": 7,
   "metadata": {},
   "outputs": [
    {
     "data": {
      "text/plain": [
       "array([  1.,   1.,   1.,   1.,   1.,   1.,   1.,   1.,   1.,   1.,   1.,\n",
       "         1.,   1.,   1.,   1.,   1.,   1.,   1.,   1.,   1.,   1.,   1.,\n",
       "         1.,   1.,   1.,   1.,   1.,   1.,   1.,   1.,   1., -31.])"
      ]
     },
     "execution_count": 7,
     "metadata": {},
     "output_type": "execute_result"
    }
   ],
   "source": [
    "np.matmul(-G.T, t)"
   ]
  },
  {
   "cell_type": "code",
   "execution_count": 8,
   "metadata": {},
   "outputs": [
    {
     "data": {
      "text/plain": [
       "array([  1,   1,   1,   1,   1,   1,   1,   1,   1,   1,   1,   1,   1,\n",
       "         1,   1,   1,   1,   1,   1,   1,   1,   1,   1,   1,   1,   1,\n",
       "         1,   1,   1,   1,   1, -31])"
      ]
     },
     "execution_count": 8,
     "metadata": {},
     "output_type": "execute_result"
    }
   ],
   "source": [
    "ns.div(t, dx=1)"
   ]
  },
  {
   "cell_type": "markdown",
   "metadata": {},
   "source": [
    "Do we actually get the Laplacian matrix when we do \n",
    "\\begin{equation}\n",
    "    L = -G^\\top G\n",
    "\\end{equation}"
   ]
  },
  {
   "cell_type": "code",
   "execution_count": 9,
   "metadata": {},
   "outputs": [
    {
     "data": {
      "text/plain": [
       "array([[-1922.,   961.,     0., ...,     0.,     0.,   961.],\n",
       "       [  961., -1922.,   961., ...,     0.,     0.,     0.],\n",
       "       [    0.,   961., -1922., ...,     0.,     0.,     0.],\n",
       "       ...,\n",
       "       [    0.,     0.,     0., ..., -1922.,   961.,     0.],\n",
       "       [    0.,     0.,     0., ...,   961., -1922.,   961.],\n",
       "       [  961.,     0.,     0., ...,     0.,   961., -1922.]])"
      ]
     },
     "execution_count": 9,
     "metadata": {},
     "output_type": "execute_result"
    }
   ],
   "source": [
    "x, dx  = np.linspace(0,1,32,retstep=True)\n",
    "G = make_G_matrix(x, dx)\n",
    "np.matmul(-G.T, G)"
   ]
  },
  {
   "cell_type": "code",
   "execution_count": 10,
   "metadata": {},
   "outputs": [
    {
     "data": {
      "text/plain": [
       "array([[-1922.,   961.,     0., ...,     0.,     0.,   961.],\n",
       "       [  961., -1922.,   961., ...,     0.,     0.,     0.],\n",
       "       [    0.,   961., -1922., ...,     0.,     0.,     0.],\n",
       "       ...,\n",
       "       [    0.,     0.,     0., ..., -1922.,   961.,     0.],\n",
       "       [    0.,     0.,     0., ...,   961., -1922.,   961.],\n",
       "       [  961.,     0.,     0., ...,     0.,   961., -1922.]])"
      ]
     },
     "execution_count": 10,
     "metadata": {},
     "output_type": "execute_result"
    }
   ],
   "source": [
    "ns.build_pressure_mat(np.ones_like(x), x, dx)"
   ]
  },
  {
   "cell_type": "markdown",
   "metadata": {},
   "source": [
    "How does the $Q^\\top B^N Q$ matrix looks like? Writting it explicitely we have\n",
    "\n",
    "\\begin{equation}\n",
    "\\begin{bmatrix}G^\\top \\\\\\\n",
    "E \\end{bmatrix}\\begin{bmatrix}G & E^\\top \\end{bmatrix}\n",
    "\\end{equation}\n",
    "\n",
    "the gradient matrix for a staggered grid ($i^{th}$ vector located to the left of $i^{th}$ scalar)\n",
    "is\n",
    "\n",
    "\\begin{equation}\n",
    "G = \\begin{bmatrix} 1 & 0 & 0 & 0 & 0 & 0 & 0 & -1 \\\\\\\n",
    "-1 & 1 & 0 & 0 & 0 & 0 & 0 & 0 \\\\\\\n",
    "0 & -1 & 1 & 0 & 0 & 0 & 0 & 0 \\\\\\\n",
    "0 & 0 & -1 & 1 & 0 & 0 & 0 & 0 \\\\\\\n",
    "0 & 0 & 0 & -1 & 1 & 0 & 0 & 0 \\\\\\\n",
    "0 & 0 & 0 & 0 & -1 & 1 & 0 & 0 \\\\\\\n",
    "0 & 0 & 0 & 0 & 0 & -1 & 1 & 0 \\\\\\\n",
    "0 & 0 & 0 & 0 & 0 & 0 & -1 & 1\n",
    " \\end{bmatrix}\n",
    "\\end{equation}\n",
    "\n",
    "and $E^\\top is simply a transpose version of the kernel applied to the distance function on the mesh"
   ]
  },
  {
   "cell_type": "code",
   "execution_count": 11,
   "metadata": {},
   "outputs": [
    {
     "data": {
      "image/png": "[encoded data removed]",
      "text/plain": [
       "<Figure size 432x432 with 1 Axes>"
      ]
     },
     "metadata": {
      "needs_background": "light"
     },
     "output_type": "display_data"
    }
   ],
   "source": [
    "t = np.arange(32)\n",
    "d = t-16\n",
    "# np.newaxis is transpose for arrays\n",
    "Q = np.hstack((make_G_matrix(t), kernel(d, 1)[:,np.newaxis]))\n",
    "plt.matshow(np.matmul(-Q.T, Q));"
   ]
  },
  {
   "cell_type": "markdown",
   "metadata": {},
   "source": [
    "### 1D Piston\n",
    "\n",
    "Here an explicit update is used for the predicted velocity field, such that $A\\equiv I$. This make $B^N\\equiv I$ and the fractional step algorithm simplifies to\n",
    "\n",
    "\\begin{split}\n",
    "    q^* &= r_1\\\\\n",
    "    Q^\\top Q \\lambda &= Q^\\top q^* - r_2\\\\\n",
    "    q^{n+1} &= q^* - Q\\lambda\n",
    "\\end{split}\n",
    "\n",
    "where $Q$ is a combination of $G$ and $E^\\top$. Because the piston is a signle point, the zise of the matrix $Q$ compared to $G$ is only one row/column larger, making the system very easy to solve."
   ]
  },
  {
   "cell_type": "code",
   "execution_count": 18,
   "metadata": {},
   "outputs": [],
   "source": [
    "def update(d, u, V, dx, dt, kernel):\n",
    "    \n",
    "    # predict velocity \n",
    "    u_star = u + dt*ns.r(u, dx)\n",
    "    \n",
    "    # get source := [phi, \\tilde{f}]^T\n",
    "    sigma = ns.div(u_star, dx)\n",
    "    q_star = np.hstack([sigma, V])\n",
    "    \n",
    "    # build pressure matrix\n",
    "    Q = np.hstack([make_G_matrix(sigma, dx), kernel(d)[:,np.newaxis]])\n",
    "    QTQ = np.matmul(-Q.T, Q)\n",
    "\n",
    "    # solve, source has addition of interface velocity\n",
    "    lam = ns.Jacobi(QTQ, q_star, tol=1e-9, verbose=True)\n",
    "    \n",
    "    # recover pressure and forcing\n",
    "    p=lam[:-1]; f=lam[ -1]\n",
    "\n",
    "    # correct\n",
    "    u_n = u_star - dt*(ns.grad(p, dx) + f*kernel(d))\n",
    "    \n",
    "    return sigma, p, u_n"
   ]
  },
  {
   "cell_type": "code",
   "execution_count": 23,
   "metadata": {},
   "outputs": [
    {
     "name": "stdout",
     "output_type": "stream",
     "text": [
      "Jacobi solver:\n",
      "\tres0: 3.030e-02\n",
      " \tres: 3.029e-11\n",
      " \titer: 33\n",
      "Interface at X: 0.01\n",
      "L inf: 1.493e-10\n"
     ]
    }
   ],
   "source": [
    "N = 32\n",
    "x, dx = np.linspace(-1, 1, N, retstep=True)\n",
    "xs = x+0.5*dx\n",
    "# random interface position\n",
    "X = np.random.rand()*.1\n",
    "V = 1\n",
    "u0 = np.zeros_like(x)\n",
    "dt = 1.\n",
    "d = (x-X)/dx\n",
    "\n",
    "sigma, p, u_n =  update(d, u0, V, dx, 1, kernel)\n",
    "print(\"Interface at X: %.2f\" % X)\n",
    "print(r\"L inf: %.3e\" % np.max(np.abs(u_n -  V)))"
   ]
  },
  {
   "cell_type": "code",
   "execution_count": 22,
   "metadata": {},
   "outputs": [
    {
     "data": {
      "image/png": "[encoded data removed]",
      "text/plain": [
       "<Figure size 720x432 with 1 Axes>"
      ]
     },
     "metadata": {
      "needs_background": "light"
     },
     "output_type": "display_data"
    }
   ],
   "source": [
    "ns.draw_results(x, xs, X, u0, u_n, p, sigma)"
   ]
  }
 ],
 "metadata": {
  "kernelspec": {
   "display_name": "Python 3.7.3 64-bit ('base': conda)",
   "language": "python",
   "name": "python37364bitbaseconda5858645382b24121ad10bc83a15b132c"
  },
  "language_info": {
   "codemirror_mode": {
    "name": "ipython",
    "version": 3
   },
   "file_extension": ".py",
   "mimetype": "text/x-python",
   "name": "python",
   "nbconvert_exporter": "python",
   "pygments_lexer": "ipython3",
   "version": "3.7.3"
  }
 },
 "nbformat": 4,
 "nbformat_minor": 2
}
