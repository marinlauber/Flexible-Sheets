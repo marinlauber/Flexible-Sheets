{
 "cells": [
  {
   "cell_type": "code",
   "execution_count": 3,
   "metadata": {},
   "outputs": [],
   "source": [
    "import numpy as np\n",
    "import matplotlib.pyplot as plt\n",
    "import NSsolver as ns\n",
    "try:\n",
    "    plt.style.use(\"jupyter\")\n",
    "except OSError:\n",
    "    print(\"Delaut syle in use\")"
   ]
  },
  {
   "cell_type": "code",
   "execution_count": 8,
   "metadata": {},
   "outputs": [],
   "source": [
    "def update(x, X, u0, V, dx, dt=1, rho=1):\n",
    "    \n",
    "    u_n = u0\n",
    "    \n",
    "    for i in range(1):\n",
    "        \n",
    "        # first step\n",
    "        u_1 = u_n + dt*ns.r(u_n)\n",
    "        u_star = u_1 + dt*f(x, X, u_1, V, dx, dt, rho)\n",
    "\n",
    "        sigma = ns.div(u_star, dx)\n",
    "\n",
    "        p = ns.solve_pressure(np.ones_like(sigma), sigma, dx)\n",
    "\n",
    "        u_n = u_star - dt/rho*(ns.grad(p, dx))\n",
    "    \n",
    "    return u_star, sigma, p, u_n\n",
    "\n",
    "def kernel(d):\n",
    "    return np.where(abs(d)<=.5, .75-d**2, np.where(abs(d)<=1.5,.5*(2.25-3*abs(d)+d**2), 0))\n",
    "\n",
    "def Ic(x, X, dx, f):\n",
    "    # interpolation operator\n",
    "    return np.sum(f*kernel((X - x)/dx))\n",
    "\n",
    "def Sc(x, X, F, ds=1):\n",
    "    # spreading operator\n",
    "    return kernel((X - x)/dx)*ds*F\n",
    "\n",
    "def f(x, X, u, V, dx, dt, rho):\n",
    "    # interpolate to Lagrangian point\n",
    "#     Ur = Ic(x, X, dx, u)\n",
    "    # compute Lagrangian force density\n",
    "    F = rho*(max(x)-min(x))/dt #rho/dt*(V - Ur)\n",
    "    return Sc(x, X, F) # extrapolate to Eulerian points"
   ]
  },
  {
   "cell_type": "code",
   "execution_count": 9,
   "metadata": {},
   "outputs": [],
   "source": [
    "# plt.plot(np.linspace(0,4),kernel(np.linspace(0,4)));"
   ]
  },
  {
   "cell_type": "code",
   "execution_count": 9,
   "metadata": {},
   "outputs": [
    {
     "name": "stdout",
     "output_type": "stream",
     "text": [
      "Interface at X: 0.14\n",
      "L inf: 9.375e-01\n"
     ]
    },
    {
     "data": {
      "image/png": "[encoded data removed]",
      "text/plain": [
       "<Figure size 432x288 with 1 Axes>"
      ]
     },
     "metadata": {
      "needs_background": "light"
     },
     "output_type": "display_data"
    }
   ],
   "source": [
    "N = 32\n",
    "x, dx = np.linspace(-1, 1, N, retstep=True)\n",
    "xs = x + 0.5*dx # scalar cell-centred values\n",
    "X = np.random.rand()-0.5\n",
    "V = 1\n",
    "u0 = np.zeros_like(x)\n",
    "dt = 1.\n",
    "\n",
    "us, sigma, p, u_n = update(x, X, u0, V, dx, dt)\n",
    "print(\"Interface at X: %.2f\" % X)\n",
    "print(r\"L inf: %.3e\" % np.max(np.abs(u_n -  V)))\n",
    "plt.plot(x, us, '-.k', lw=1,label=r\"$u^n$\")\n",
    "plt.plot(xs, sigma*.1, '-.', lw=1, label=r\"div($u^n$)\")\n",
    "plt.plot(xs, p, '--k',  lw=1, label=r\"$p^n$\")\n",
    "plt.plot(x, u_n, '-m', lw=1, label=r\"$u^{n+1}$\")\n",
    "plt.vlines(X, 0, V, lw=1, color='red')\n",
    "plt.xlim(-1,1); plt.ylim(-2,2);\n",
    "plt.xlabel(r'$x/L$');\n",
    "plt.legend()\n",
    "plt.ylabel(r'$U$');"
   ]
  },
  {
   "cell_type": "code",
   "execution_count": null,
   "metadata": {},
   "outputs": [],
   "source": [
    "stop"
   ]
  },
  {
   "cell_type": "code",
   "execution_count": 10,
   "metadata": {},
   "outputs": [
    {
     "name": "stdout",
     "output_type": "stream",
     "text": [
      "Interface at X: 0.09\n",
      "L inf: 1.276e-07\n"
     ]
    },
    {
     "data": {
      "image/png": "[encoded data removed]",
      "text/plain": [
       "<Figure size 720x432 with 1 Axes>"
      ]
     },
     "metadata": {
      "needs_background": "light"
     },
     "output_type": "display_data"
    }
   ],
   "source": [
    "N = 32\n",
    "x, dx = np.linspace(-1, 1, N, retstep=True)\n",
    "xs = x + 0.5*dx # scalar cell-centred values\n",
    "X = np.random.rand()-0.5\n",
    "V = 1\n",
    "u0 = np.zeros_like(x)\n",
    "dt = 1.\n",
    "\n",
    "us, sigma, p, u_n = update(x, X, u0, V, dx, dt)\n",
    "print(\"Interface at X: %.2f\" % X)\n",
    "print(r\"L inf: %.3e\" % np.max(np.abs(u_n -  V)))\n",
    "plt.plot(x, us, '-.k', lw=1,label=r\"$u^n$\")\n",
    "plt.plot(xs, sigma*.1, '-.', lw=1, label=r\"div($u^n$)\")\n",
    "plt.plot(xs, p, '--k',  lw=1, label=r\"$p^n$\")\n",
    "plt.plot(x, u_n, '-m', lw=1, label=r\"$u^{n+1}$\")\n",
    "plt.vlines(X, 0, V, lw=1, color='red')\n",
    "plt.xlim(-1,1); plt.ylim(-2,2);\n",
    "plt.xlabel(r'$x/L$');\n",
    "plt.legend()\n",
    "plt.ylabel(r'$U$');"
   ]
  }
 ],
 "metadata": {
  "kernelspec": {
   "display_name": "Python 3.7.3 64-bit ('base': conda)",
   "language": "python",
   "name": "python37364bitbaseconda5858645382b24121ad10bc83a15b132c"
  },
  "language_info": {
   "codemirror_mode": {
    "name": "ipython",
    "version": 3
   },
   "file_extension": ".py",
   "mimetype": "text/x-python",
   "name": "python",
   "nbconvert_exporter": "python",
   "pygments_lexer": "ipython3",
   "version": "3.7.3"
  }
 },
 "nbformat": 4,
 "nbformat_minor": 2
}
