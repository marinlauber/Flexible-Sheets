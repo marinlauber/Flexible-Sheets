{
 "cells": [
  {
   "cell_type": "markdown",
   "metadata": {},
   "source": [
    "---\n",
    "# 3D Wing Motion Kinematics\n",
    "\n",
    "---"
   ]
  },
  {
   "cell_type": "code",
   "execution_count": 3,
   "metadata": {},
   "outputs": [],
   "source": [
    "import numpy as np\n",
    "import matplotlib.pyplot as plt\n",
    "from scipy.integrate import trapz"
   ]
  },
  {
   "cell_type": "markdown",
   "metadata": {},
   "source": [
    "#### Marin Lauber 2020"
   ]
  },
  {
   "cell_type": "markdown",
   "metadata": {},
   "source": [
    "The ellipsoidal wing is defined as\n",
    "\n",
    "\\begin{equation}\n",
    "    \\frac{x^2}{a^2} + \\frac{y^2}{b^2} + \\frac{z^2}{c^2} = 1,\n",
    "\\end{equation}\n",
    "\n",
    "with $a=0.5$, $b=0.05$ and $c=1$. "
   ]
  },
  {
   "cell_type": "code",
   "execution_count": 8,
   "metadata": {},
   "outputs": [],
   "source": [
    "# wing\n",
    "def chord(r):\n",
    "    return np.sqrt(abs((1-r**2)))\n",
    "def c(r, Rtip=2.5):\n",
    "    return np.where(r<(Rtip-2.0), 0, chord(r-1.5))"
   ]
  },
  {
   "cell_type": "markdown",
   "metadata": {},
   "source": [
    "Its motion is deine by three Euler angles\n",
    "\n",
    "\\begin{split}\n",
    "    \\varphi(t) &= A_\\varphi\\cos(2\\pi f_r t), \\\\\n",
    "    \\theta(t) &= A_\\theta\\sin(2\\pi f_\\theta t), \\\\\n",
    "    \\alpha(t) &= \\frac{\\pi}{2} - A_\\alpha\\sin(2\\pi f_r t + \\xi),\n",
    "\\end{split}\n",
    "\n",
    "where $\\varphi(t)$ corresponds to the stroke variation, $\\alpha(t)$ to the geometrical angle of attack and $\\theta(t)$ to the deviation from the horizontal stroke plane. $\\xi$ is the phase difference between $\\alpha$ and $\\theta$. Figure-0 motion are obtained by setting $f_\\theta = f_r$ and figure-of-8 by setting $f_\\theta = 2f_r$"
   ]
  },
  {
   "cell_type": "code",
   "execution_count": 9,
   "metadata": {},
   "outputs": [],
   "source": [
    "# elevation angle\n",
    "def theta(t, A, f): \n",
    "    return A*np.cos(2*np.pi*f*t)\n",
    "def thetadot(t, A, f):\n",
    "    return -2*np.pi*f*A*np.sin(2*np.pi*f*t)\n",
    "\n",
    "# stroke angle\n",
    "def phi(t, A, f): \n",
    "    return A*np.sin(2*np.pi*f*t)\n",
    "def phidot(t, A, f):\n",
    "    return 2*np.pi*f*A*np.cos(2*np.pi*f*t)\n",
    "\n",
    "# angle of attack\n",
    "def alpha(t, A, f, xi=0.): \n",
    "    return np.pi/2. - A*np.cos(2*np.pi*f*t + xi)\n",
    "def alphadot(t, A, f, xi=0):\n",
    "    return -2*np.pi*f*A*np.sin(2*np.pi*f*t + xi)"
   ]
  },
  {
   "cell_type": "markdown",
   "metadata": {},
   "source": [
    "The aerodynamic performance of the flapping wing is evaluated using the drag coefficient $C_D$ and lift coefficient $C_L$\n",
    "\n",
    "\\begin{split}\n",
    "    C_D &= \\frac{F_x\\cos(\\varphi) - F_z\\sin(\\varphi)}{\\frac{1}{2}\\rho U_{ref}^2S}, \\\\\n",
    "    C_L &= \\frac{F_y}{\\frac{1}{2}\\rho U_{ref}^2S}. \\\\\n",
    "\\end{split}\n",
    "\n",
    "The wing area is $S=\\pi/4.$ and the reference velocity is defined as (average velocity magnitude over one period)\n",
    "\n",
    "\\begin{equation}\n",
    "    U_{ref} = f_r\\int_{0}^{1/f_r}\\sqrt{\\dot{\\varphi}^2 + \\dot{\\theta}^2}dt R_g \\qquad\\left( = f_r\\int_{0}^{1/f_r}|\\dot{\\varphi}| dt R_g\\right).\n",
    "\\end{equation}\n",
    "\n",
    "When $\\theta(t)\\equiv0$.\n",
    "\n",
    "\\begin{equation}\n",
    "U_{ref} = 2\\pi f_r A_\\varphi f_r\\int_{0}^{1/f_r}|\\sin(2\\pi f_r t)| dt R_g =0.5 \\pi A_\\varphi \\int_{0}^{2}|\\sin(\\pi t)| dt R_g \\sim 0.5 \\pi A_\\varphi 1.2732 R_g\n",
    "\\end{equation}\n",
    "The radius of gyration is\n",
    "\n",
    "\\begin{equation}\n",
    "    R_g = \\sqrt{\\frac{1}{S}\\int_{0}^{R}cr^2 dr}.\n",
    "\\end{equation}\n",
    "\n",
    "Both those integrals are better carried numerically."
   ]
  },
  {
   "cell_type": "code",
   "execution_count": 10,
   "metadata": {},
   "outputs": [],
   "source": [
    "# kinematic params\n",
    "fr = 0.5\n",
    "t, dt = np.linspace(0.0, 1./fr, 512, retstep=True)\n",
    "r, dr = np.linspace(0, 2.5, 512, retstep=True)\n",
    "A_phi = 0.35*np.pi\n",
    "S = np.pi/2.\n",
    "cbar = np.pi/4.\n",
    "nu = 0.0273"
   ]
  },
  {
   "cell_type": "code",
   "execution_count": 11,
   "metadata": {},
   "outputs": [],
   "source": [
    "# integrals\n",
    "Rg = np.sqrt(1./S*trapz(c(r)*r**2, r, dr))\n",
    "Uref = fr * trapz(abs(phidot(t, A_phi, fr)), t, dt) * Rg   "
   ]
  },
  {
   "cell_type": "code",
   "execution_count": 17,
   "metadata": {},
   "outputs": [
    {
     "name": "stdout",
     "output_type": "stream",
     "text": [
      "Radius of gyration : 1.581\n",
      "Uref : 3.477\n"
     ]
    }
   ],
   "source": [
    "# printing stuff\n",
    "print('Radius of gyration : %.3f' % Rg)\n",
    "print('Uref : %.3f' % Uref)"
   ]
  },
  {
   "cell_type": "markdown",
   "metadata": {},
   "source": [
    "The Reynolds number is defined as\n",
    "\n",
    "\\begin{equation}\n",
    "    Re = \\frac{\\bar{c}U_{ref}}{\\nu} = \\frac{4A_\\phi f_r R_g \\bar{c}}{\\nu}\n",
    "\\end{equation}\n",
    "\n",
    "where $\\nu=0.0273$ and the average cord length is $\\bar{c} = \\pi/4.$"
   ]
  },
  {
   "cell_type": "code",
   "execution_count": 13,
   "metadata": {},
   "outputs": [],
   "source": [
    "# Reynolds number\n",
    "def Re(Uref, cbar, nu, A_phi, fr, Rg):\n",
    "    return Uref*cbar/nu, 4*A_phi*fr*Rg*cbar/nu"
   ]
  },
  {
   "cell_type": "code",
   "execution_count": 14,
   "metadata": {},
   "outputs": [
    {
     "name": "stdout",
     "output_type": "stream",
     "text": [
      "Reynolds number : 100.0 (100.0)\n"
     ]
    }
   ],
   "source": [
    "print('Reynolds number : %.1f (%.1f)' % Re(Uref, cbar, nu, A_phi, fr, Rg))"
   ]
  }
 ],
 "metadata": {
  "kernelspec": {
   "display_name": "Python 3",
   "language": "python",
   "name": "python3"
  },
  "language_info": {
   "codemirror_mode": {
    "name": "ipython",
    "version": 3
   },
   "file_extension": ".py",
   "mimetype": "text/x-python",
   "name": "python",
   "nbconvert_exporter": "python",
   "pygments_lexer": "ipython3",
   "version": "3.7.3"
  }
 },
 "nbformat": 4,
 "nbformat_minor": 2
}
